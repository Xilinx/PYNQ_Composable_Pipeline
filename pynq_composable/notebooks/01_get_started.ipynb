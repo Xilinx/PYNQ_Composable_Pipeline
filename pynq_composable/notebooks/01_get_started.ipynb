{
 "cells": [
  {
   "cell_type": "markdown",
   "metadata": {},
   "source": [
    "# Getting Started with the Composable Pipeline\n",
    "----\n",
    "\n",
    "This notebook helps you get started with the composable pipeline in terms of resources and requisites\n",
    "\n",
    "## Aims\n",
    "* Describe the requisites and setup\n",
    "* Describe the resources\n",
    "\n",
    "## Table of Contents\n",
    "* [Introduction](#intro)\n",
    "* [Prerequisites](#requisites)\n",
    "* [Setup](#setup)\n",
    "* [Next Steps](#next)\n",
    "\n",
    "## Revision History\n",
    "\n",
    "* v1.0 | 30 March 2021 | First notebook revision.\n",
    "\n",
    "----"
   ]
  },
  {
   "cell_type": "markdown",
   "metadata": {},
   "source": [
    "## Introduction <a class=\"anchor\" id=\"intro\"></a>\n",
    "\n",
    "The notebooks are split into two folders `applications` and `custom_pipeline`.\n",
    "\n",
    "The `applications` folder provides predefined vision applications wrapped into a pythonic API that exposes the functionality to the user and abstracts away the complexity of the composable pipeline.\n",
    "\n",
    "On the other hand, the `custom_pipeline` folder provides a deep dive into the composable overlay architecture and the intermediate API to control and create custom pipelines. The composable overlay is presented and the through the notebooks all the features are explored. \n",
    "\n",
    "It is recommended to start exploring the `applications` folder to understand how powerful the composable overlay is."
   ]
  },
  {
   "cell_type": "markdown",
   "metadata": {},
   "source": [
    "## Prerequisites <a class=\"anchor\" id=\"requisites\"></a>\n",
    "\n",
    "- [PYNQ-Z2](https://www.tul.com.tw/ProductsPYNQ-Z2.html) or [PYNQ-ZU](https://www.tul.com.tw/ProductsPYNQ-ZU.html) board\n",
    "- PYNQ v3.0.1 image for the corresponding board.\n",
    "- 2x HDMI cables\n",
    "- External Monitor\n",
    "- Video source\n",
    "- Optional: Pcam 5C, only for PYNQ-ZU\n"
   ]
  },
  {
   "cell_type": "markdown",
   "metadata": {},
   "source": [
    "## Setup <a class=\"anchor\" id=\"setup\"></a>\n",
    "\n",
    "### PYNQ-Z2\n",
    "\n",
    "1. Plug the HDMI In  to a video source, for instance a laptop\n",
    "2. Plug  the HDMI Out to an external monitor\n",
    "\n",
    "![](img/Pynq-z2.jpg)\n",
    "\n",
    "### PYNQ-ZU\n",
    "\n",
    "1. Plug the HDMI In  to a video source, for instance a laptop\n",
    "2. Plug  the HDMI Out to an external monitor\n",
    "3. Optionally, plug the [Digilent Pcam 5C](https://store.digilentinc.com/pcam-5c-5-mp-fixed-focus-color-camera-module/) into the CSI connector, blue strip must face inward. Note, this is the only MIPI camera supported.\n",
    "\n",
    "![](img/Pynq-ZU.jpg)"
   ]
  },
  {
   "cell_type": "markdown",
   "metadata": {},
   "source": [
    "## Next Steps <a class=\"anchor\" id=\"next\"></a>\n",
    "\n",
    "If you are familiar with image/video processing you can start playing the notebooks at [application](applications/01_difference_gaussians_app.ipynb) or [custom pipeline](custom_pipeline/01_composable_overlay_intro.ipynb) level.\n",
    "\n",
    "If you are new to image/video processing checkout [02_vision_intro.ipynb](02_vision_intro.ipynb) to get a brief introduction."
   ]
  },
  {
   "cell_type": "markdown",
   "metadata": {},
   "source": [
    "----\n",
    "\n",
    "Copyright &copy; 2021 Xilinx, Inc\n",
    "\n",
    "SPDX-License-Identifier: BSD-3-Clause\n",
    "\n",
    "----"
   ]
  }
 ],
 "metadata": {
  "kernelspec": {
   "display_name": "Python 3",
   "language": "python",
   "name": "python3"
  },
  "language_info": {
   "codemirror_mode": {
    "name": "ipython",
    "version": 3
   },
   "file_extension": ".py",
   "mimetype": "text/x-python",
   "name": "python",
   "nbconvert_exporter": "python",
   "pygments_lexer": "ipython3",
   "version": "3.6.5"
  },
  "widgets": {
   "application/vnd.jupyter.widget-state+json": {
    "state": {},
    "version_major": 2,
    "version_minor": 0
   }
  }
 },
 "nbformat": 4,
 "nbformat_minor": 4
}
