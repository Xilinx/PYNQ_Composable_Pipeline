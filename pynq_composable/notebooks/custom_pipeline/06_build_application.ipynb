{
 "cells": [
  {
   "cell_type": "markdown",
   "metadata": {},
   "source": [
    "# Build your own Application\n",
    "----\n",
    "\n",
    "<div class=\"alert alert-box alert-info\">\n",
    "Please use Jupyter labs http://&lt;board_ip_address&gt;/lab for this notebook.\n",
    "</div>\n",
    "\n",
    "This notebook shows your how to build your custom composable application from the ground up\n",
    "\n",
    "## Aims\n",
    "* Create self contained application\n",
    "\n",
    "\n",
    "## Table of Contents\n",
    "* [Introduction](#intro)\n",
    "* [Download Composable Overlay](#download)\n",
    "* [Start HDMI Video](#start_hdmi)\n",
    "* [Compose Pipeline](#compose)\n",
    "* [Build the Application](#build)\n",
    "* [Conclusion](#conclusion)\n",
    "\n",
    "----\n",
    "\n",
    "## Revision History\n",
    "\n",
    "* v1.0 | 30 March 2021 | First notebook revision.\n",
    "* v1.1 | 11 August 2021 | Update notebook to composable overlay API 1.0.0\n",
    "\n",
    "----"
   ]
  },
  {
   "cell_type": "markdown",
   "metadata": {},
   "source": [
    "## Introduction <a class=\"anchor\" id=\"intro\"></a>\n",
    "\n",
    "We are going to recreate the [CornerDetect application](../applications/02_corner_detect_app.ipynb) using the intermediate API and expose some of the runtime configuration parameters using [ipywidgets](https://ipywidgets.readthedocs.io/en/latest/)"
   ]
  },
  {
   "cell_type": "markdown",
   "metadata": {},
   "source": [
    "## Download Composable Overlay <a class=\"anchor\" id=\"download\"></a>\n",
    "\n",
    "Start by downloading the composable overlay onto the FPGA"
   ]
  },
  {
   "cell_type": "code",
   "execution_count": null,
   "metadata": {},
   "outputs": [],
   "source": [
    "from pynq import Overlay\n",
    "from pynq.lib.video import *\n",
    "from pynq_composable import *\n",
    "\n",
    "ol = Overlay(\"cv_dfx_4_pr.bit\")\n",
    "\n",
    "cpipe = ol.composable"
   ]
  },
  {
   "cell_type": "markdown",
   "metadata": {},
   "source": [
    "## Start HDMI Video <a class=\"anchor\" id=\"start_hdmi\"></a>\n",
    "\n",
    "Get `VideoStream` object and start video\n",
    "\n",
    "<div class=\"alert alert-heading alert-danger\">\n",
    "    <h4 class=\"alert-heading\">Warning:</h4>\n",
    "\n",
    "Failure to connect HDMI cables to a valid video source and screen may cause the notebook to hang\n",
    "</div>"
   ]
  },
  {
   "cell_type": "code",
   "execution_count": null,
   "metadata": {},
   "outputs": [],
   "source": [
    "video = VideoStream(ol)\n",
    "video.start()"
   ]
  },
  {
   "cell_type": "markdown",
   "metadata": {},
   "source": [
    "## Compose Pipeline <a class=\"anchor\" id=\"compose\"></a>\n",
    "\n",
    "First we need to load the partial bitstreams to bring `fast` and `cornerHarris` functionality"
   ]
  },
  {
   "cell_type": "code",
   "execution_count": null,
   "metadata": {},
   "outputs": [],
   "source": [
    "cpipe.load(['pr_0/fast_accel', 'pr_1/cornerHarris_accel'])"
   ]
  },
  {
   "cell_type": "markdown",
   "metadata": {},
   "source": [
    "Grab handlers, compose the pipeline and visualize it"
   ]
  },
  {
   "cell_type": "code",
   "execution_count": null,
   "metadata": {},
   "outputs": [],
   "source": [
    "rgb2gray = cpipe.rgb2gray_accel\n",
    "gray2rgb = cpipe.gray2rgb_accel\n",
    "fast = cpipe.pr_0.fast_accel\n",
    "harr = cpipe.pr_1.cornerHarris_accel\n",
    "\n",
    "cpipe.compose([cpipe.hdmi_source_in, rgb2gray , fast, gray2rgb, cpipe.hdmi_source_out])\n",
    "\n",
    "cpipe.graph"
   ]
  },
  {
   "cell_type": "markdown",
   "metadata": {},
   "source": [
    "## Build the Application <a class=\"anchor\" id=\"build\"></a>\n",
    "\n",
    "In the following cells we will define some useful functions to help us change the functionality of the application\n",
    "\n",
    "Declare the `threshold` and `K` values as [IntSlider](https://ipywidgets.readthedocs.io/en/latest/examples/Widget%20List.html#IntSlider) and [FloatSlider](https://ipywidgets.readthedocs.io/en/latest/examples/Widget%20List.html#FloatSlider) respectively "
   ]
  },
  {
   "cell_type": "code",
   "execution_count": null,
   "metadata": {},
   "outputs": [],
   "source": [
    "from ipywidgets import widgets, IntSlider, FloatSlider, interact\n",
    "\n",
    "thr = IntSlider(min=0, max=255, step=1, value=20)\n",
    "k_harris = FloatSlider(min=0, max=0.2, step=0.002, value=0.04, description='K')"
   ]
  },
  {
   "cell_type": "markdown",
   "metadata": {},
   "source": [
    "Declare `swap` function that enables to change between `fast` and `cornerHarris`"
   ]
  },
  {
   "cell_type": "code",
   "execution_count": null,
   "metadata": {},
   "outputs": [],
   "source": [
    "algorithm = 'Fast'\n",
    "def swap():\n",
    "    global algorithm\n",
    "    global thr\n",
    "    if algorithm == 'Fast':\n",
    "        cpipe.replace((fast, harr))\n",
    "        algorithm = 'Harris'\n",
    "        thr.max = 1024\n",
    "        thr.value = 422\n",
    "    else:\n",
    "        cpipe.replace((harr, fast))\n",
    "        algorithm = 'Fast'\n",
    "        thr.max = 255\n",
    "        thr.value = 20"
   ]
  },
  {
   "cell_type": "code",
   "execution_count": null,
   "metadata": {},
   "outputs": [],
   "source": [
    "def app(new_algorithm, threshold, k):\n",
    "    global thr\n",
    "    global k_harris\n",
    "    if new_algorithm != algorithm:\n",
    "        swap()\n",
    "    elif new_algorithm == 'Fast':\n",
    "        fast.threshold = threshold\n",
    "        k_harris.disabled = True\n",
    "    else:\n",
    "        harr.threshold = threshold\n",
    "        k_harris.disabled = False\n",
    "        harr.k = k"
   ]
  },
  {
   "cell_type": "markdown",
   "metadata": {},
   "source": [
    "## Run the Application <a class=\"anchor\" id=\"run\"></a>\n",
    "\n",
    "Finally we can use [interact](https://ipywidgets.readthedocs.io/en/latest/examples/Using%20Interact.html#Using-Interact), which automatically creates user interface (UI) controls, to run our application. The first argument is the function we want to call and the following are the argument to such function."
   ]
  },
  {
   "cell_type": "code",
   "execution_count": null,
   "metadata": {},
   "outputs": [],
   "source": [
    "interact(app, new_algorithm=['Fast','Harris'], threshold=thr, k=k_harris);"
   ]
  },
  {
   "cell_type": "markdown",
   "metadata": {},
   "source": [
    "## Stop HDMI Video <a class=\"anchor\" id=\"stop_hdmi\"></a>\n",
    "\n",
    "Finally stop the HDMI video pipeline\n",
    "\n",
    "<div class=\"alert alert-heading alert-danger\">\n",
    "    <h4 class=\"alert-heading\">Warning:</h4>\n",
    "\n",
    "Failure to stop the HDMI Video may hang the board \n",
    "when trying to download another bitstream onto the FPGA\n",
    "</div>"
   ]
  },
  {
   "cell_type": "code",
   "execution_count": null,
   "metadata": {},
   "outputs": [],
   "source": [
    "video.stop()\n",
    "ol.free()"
   ]
  },
  {
   "cell_type": "markdown",
   "metadata": {},
   "source": [
    "----\n",
    "\n",
    "## Conclusion <a class=\"anchor\" id=\"conclusion\"></a>\n",
    "\n",
    "This notebook has shown how to create an application from the ground up. However, it is recommended to inherit from `PipelineApp` to create your own application.\n",
    "\n",
    "[⬅️ Using Dynamic IP on the Composable Pipeline](05_dynamic_ip.ipynb) | | [Advanced Features ➡️](07_advanced_features.ipynb)"
   ]
  },
  {
   "cell_type": "markdown",
   "metadata": {},
   "source": [
    "Copyright &copy; 2021 Xilinx, Inc\n",
    "\n",
    "SPDX-License-Identifier: BSD-3-Clause\n",
    "\n",
    "----"
   ]
  }
 ],
 "metadata": {
  "kernelspec": {
   "display_name": "Python 3",
   "language": "python",
   "name": "python3"
  },
  "language_info": {
   "codemirror_mode": {
    "name": "ipython",
    "version": 3
   },
   "file_extension": ".py",
   "mimetype": "text/x-python",
   "name": "python",
   "nbconvert_exporter": "python",
   "pygments_lexer": "ipython3",
   "version": "3.6.5"
  },
  "widgets": {
   "application/vnd.jupyter.widget-state+json": {
    "state": {},
    "version_major": 2,
    "version_minor": 0
   }
  }
 },
 "nbformat": 4,
 "nbformat_minor": 4
}
