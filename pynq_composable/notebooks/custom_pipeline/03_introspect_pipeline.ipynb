{
 "cells": [
  {
   "cell_type": "markdown",
   "metadata": {},
   "source": [
    "# Introspect Composable Pipeline\n",
    "----\n",
    "\n",
    "<div class=\"alert alert-box alert-info\">\n",
    "Please use Jupyter labs http://&lt;board_ip_address&gt;/lab for this notebook.\n",
    "</div>\n",
    "\n",
    "This notebook shows your how to create your first custom pipeline\n",
    "\n",
    "## Aims\n",
    "* Use Composable object\n",
    "* Start the HDMI path\n",
    "* Compose pipeline\n",
    "* Play with the pipeline\n",
    "\n",
    "## Table of Contents\n",
    "* [Download Composable Overlay](#download)\n",
    "* [Start HDMI Video](#start_hdmi)\n",
    "* [Let us Compose](#compose)\n",
    "* [Visualize the Pipeline](#visualize)\n",
    "* [Play with the LUT IP](#play)\n",
    "* [Stop HDMI Video](#stop_hdmi)\n",
    "* [Conclusion](#conclusion)\n",
    "\n",
    "----\n",
    "\n",
    "## Revision History\n",
    "\n",
    "* v1.0 | 30 March 2021 | First notebook revision.\n",
    "* v1.1 | 11 August 2021 | Update notebook to composable overlay API 1.0.0\n",
    "\n",
    "----"
   ]
  },
  {
   "cell_type": "markdown",
   "metadata": {},
   "source": [
    "## Download Composable Overlay <a class=\"anchor\" id=\"download\"></a>\n",
    "\n",
    "Import the pynq video libraries as well as Composable class and the drivers for the IP.\n",
    "\n",
    "Download the Composable Overlay using `pynq.Overlay` and grab a handler to the `composable` hierarchy"
   ]
  },
  {
   "cell_type": "code",
   "execution_count": null,
   "metadata": {},
   "outputs": [],
   "source": [
    "from pynq import Overlay\n",
    "from pynq.lib.video import *\n",
    "from pynq_composable import *\n",
    "\n",
    "ol = Overlay(\"cv_dfx_3_pr.bit\")\n",
    "\n",
    "cpipe = ol.composable"
   ]
  },
  {
   "cell_type": "markdown",
   "metadata": {},
   "source": [
    "## Start HDMI Video <a class=\"anchor\" id=\"start_hdmi\"></a>\n",
    "\n",
    "Get `VideoStream` object and start video\n",
    "\n",
    "<div class=\"alert alert-heading alert-danger\">\n",
    "    <h4 class=\"alert-heading\">Warning:</h4>\n",
    "\n",
    "Failure to connect HDMI cables to a valid video source and screen may cause the notebook to hang\n",
    "</div>"
   ]
  },
  {
   "cell_type": "code",
   "execution_count": null,
   "metadata": {},
   "outputs": [],
   "source": [
    "video = VideoStream(ol)\n",
    "video.start()"
   ]
  },
  {
   "cell_type": "markdown",
   "metadata": {},
   "source": [
    "## Let us Compose <a class=\"anchor\" id=\"compose\"></a>\n",
    "\n",
    "First we need to grab handlers to the IP objects to simplify the notebook"
   ]
  },
  {
   "cell_type": "code",
   "execution_count": null,
   "metadata": {},
   "outputs": [],
   "source": [
    "filter2d = cpipe.filter2d_accel\n",
    "rgb2gray = cpipe.rgb2gray_accel\n",
    "gray2rgb = cpipe.gray2rgb_accel\n",
    "rgb2hsv = cpipe.rgb2hsv_accel\n",
    "colorthr = cpipe.colorthresholding_accel\n",
    "lut = cpipe.lut_accel"
   ]
  },
  {
   "cell_type": "markdown",
   "metadata": {},
   "source": [
    "This method expect a list with the IP object, based on this list the pipeline will be configured on our FPGA. After you run the next cell the video stream on your monitor should change,"
   ]
  },
  {
   "cell_type": "code",
   "execution_count": null,
   "metadata": {},
   "outputs": [],
   "source": [
    "video_pipeline = [cpipe.hdmi_source_in, lut, rgb2hsv, rgb2gray, gray2rgb, cpipe.hdmi_source_out]\n",
    "\n",
    "cpipe.compose(video_pipeline)"
   ]
  },
  {
   "cell_type": "markdown",
   "metadata": {},
   "source": [
    "## Visualize the Pipeline <a class=\"anchor\" id=\"visualize\"></a>\n",
    "\n",
    "We can visualize the implemented pipeline with the `.graph` attribute. This allows to quickly verify the pipeline"
   ]
  },
  {
   "cell_type": "code",
   "execution_count": null,
   "metadata": {},
   "outputs": [],
   "source": [
    "cpipe.graph"
   ]
  },
  {
   "cell_type": "markdown",
   "metadata": {},
   "source": [
    "## Tapping <a class=\"anchor\" id=\"tapping\"></a>\n",
    "\n",
    "The `Composable` class provides the `tap` method which is a handy way to grab the output of one of the stages on the pipeline and redirect it to the output of the pipeline. This allows introspection without recomposing a pipeline. `tap` accepts either and index on the pipeline or the IP object. To return to the original pipeline just call `.untap()`\n",
    "\n",
    "<div class=\"alert alert-heading alert-warning\">\n",
    "Tapping is not supported on branches\n",
    "</div>"
   ]
  },
  {
   "cell_type": "code",
   "execution_count": null,
   "metadata": {},
   "outputs": [],
   "source": [
    "cpipe.tap?"
   ]
  },
  {
   "cell_type": "code",
   "execution_count": null,
   "metadata": {},
   "outputs": [],
   "source": [
    "cpipe.tap(lut)\n",
    "\n",
    "cpipe.graph"
   ]
  },
  {
   "cell_type": "code",
   "execution_count": null,
   "metadata": {},
   "outputs": [],
   "source": [
    "cpipe.tap(3)\n",
    "\n",
    "cpipe.graph"
   ]
  },
  {
   "cell_type": "code",
   "execution_count": null,
   "metadata": {},
   "outputs": [],
   "source": [
    "cpipe.untap()\n",
    "\n",
    "cpipe.graph"
   ]
  },
  {
   "cell_type": "markdown",
   "metadata": {},
   "source": [
    "## Stop HDMI Video <a class=\"anchor\" id=\"stop_hdmi\"></a>\n",
    "\n",
    "Finally stop the HDMI video pipeline\n",
    "\n",
    "<div class=\"alert alert-heading alert-danger\">\n",
    "    <h4 class=\"alert-heading\">Warning:</h4>\n",
    "\n",
    "Failure to stop the HDMI Video may hang the board \n",
    "when trying to download another bitstream onto the FPGA\n",
    "</div>"
   ]
  },
  {
   "cell_type": "code",
   "execution_count": null,
   "metadata": {},
   "outputs": [],
   "source": [
    "video.stop()\n",
    "ol.free()"
   ]
  },
  {
   "cell_type": "markdown",
   "metadata": {},
   "source": [
    "----\n",
    "\n",
    "## Conclusion <a class=\"anchor\" id=\"conclusion\"></a>\n",
    "\n",
    "This notebook has shown how to compose a simple pipeline, how to visualize what has been implemented and how to interact with one of the IP objects on the pipeline\n",
    "\n",
    "[⬅️ First Custom Pipeline](02_first_custom_pipeline.ipynb) | | [Modify Composable Pipeline ➡️](04_modify_pipeline.ipynb)"
   ]
  },
  {
   "cell_type": "markdown",
   "metadata": {},
   "source": [
    "Copyright &copy; 2021 Xilinx, Inc\n",
    "\n",
    "SPDX-License-Identifier: BSD-3-Clause\n",
    "\n",
    "----"
   ]
  }
 ],
 "metadata": {
  "kernelspec": {
   "display_name": "Python 3",
   "language": "python",
   "name": "python3"
  },
  "language_info": {
   "codemirror_mode": {
    "name": "ipython",
    "version": 3
   },
   "file_extension": ".py",
   "mimetype": "text/x-python",
   "name": "python",
   "nbconvert_exporter": "python",
   "pygments_lexer": "ipython3",
   "version": "3.6.5"
  },
  "widgets": {
   "application/vnd.jupyter.widget-state+json": {
    "state": {},
    "version_major": 2,
    "version_minor": 0
   }
  }
 },
 "nbformat": 4,
 "nbformat_minor": 4
}
