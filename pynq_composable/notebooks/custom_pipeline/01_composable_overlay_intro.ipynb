{
 "cells": [
  {
   "cell_type": "markdown",
   "metadata": {},
   "source": [
    "# Composable Overlay Introduction\n",
    "----\n",
    "\n",
    "<div class=\"alert alert-box alert-info\">\n",
    "Please use Jupyter labs http://&lt;board_ip_address&gt;/lab for this notebook.\n",
    "</div>\n",
    "\n",
    "This notebook provides an introductory overview of the Composable Overlay and how to use it from a Jupyter Notebook\n",
    "\n",
    "## Aims\n",
    "* Describe the Composable Pipeline architecture\n",
    "* Explore the `Composable` class\n",
    "\n",
    "## Table of Contents\n",
    "* [Introduction](#intro)\n",
    "* [The Composable Class](#composable_class)\n",
    "* [Download the Composable Overlay](#download)\n",
    "* [Explore Composable Dictionary](#c_dict)\n",
    "* [Explore DFX Dictionary](#dfx_dict)\n",
    "* [Documentation](#docs)\n",
    "* [Conclusion](#conclusion)\n",
    "\n",
    "## Revision History\n",
    "\n",
    "* v1.0 | 30 March 2021 | First notebook revision.\n",
    "* v1.1 | 11 August 2021 | Update notebook to composable overlay API 1.0.0\n",
    "\n",
    "----"
   ]
  },
  {
   "cell_type": "markdown",
   "metadata": {},
   "source": [
    "## Introduction <a class=\"anchor\" id=\"intro\"></a>\n",
    "\n",
    "A Composable Overlay is an overlay with a novel and clever architecture that allow us to adapt how the data flows between the IP cores connected to the switch.\n",
    "\n",
    "The key characteristic of a composable overlay is an AXI4-Stream Switch at its core, which plays the same role as an old [telephone switchboard](https://en.wikipedia.org/wiki/Telephone_switchboard). The AXI4-Stream Switch provides the runtime routing of the data flow from one IP to another in a one to one manner. \n",
    "\n",
    "On top of that, the composable overlay includes DFX (partial reconfigurable) regions that can bring new functionality to the design.\n",
    "\n",
    "The composable overlay architecture of a composable video overlay for the PYNQ-Z2 is shown in the image below\n",
    "\n",
    "![](../img/cv-4pr.png)"
   ]
  },
  {
   "cell_type": "markdown",
   "metadata": {},
   "source": [
    "## The Composable Class <a class=\"anchor\" id=\"composable_class\"></a>\n",
    "\n",
    "The `Composable` class inherits from the pynq [`DefaultHierarchy` class](https://pynq.readthedocs.io/en/latest/pynq_package/pynq.overlay.html?#pynq.overlay.DefaultHierarchy) and enhances it by adding new methods and attributes to compose pipelines at run time.\n",
    "The `Composable` class abstracts the Composable Overlay logic in a pythonic way, pynq assigns this class (driver) to any hierarchy that contains and [AXI4-Stream Switch](https://www.xilinx.com/products/intellectual-property/axi4-stream_interconnect.html#documentation) (`axis_switch`) and [AXI GPIO](https://www.xilinx.com/products/intellectual-property/axi_gpio.html#documentation) for soft reset (`pipeline_control`). "
   ]
  },
  {
   "cell_type": "markdown",
   "metadata": {},
   "source": [
    "## Download the Composable Overlay <a class=\"anchor\" id=\"download\"></a>\n",
    "\n",
    "It is time to download the composable overlay using the `pynq.Overlay` class and grab a handler to the `.composable` hierarchy.\n",
    "\n",
    "pynq will automatically assign the `Composable` class to the `.composable` hierarchy given that its meets requirements.\n",
    "\n",
    "The `Overlay` class will:\n",
    "\n",
    "1. Download the bitstream onto the FPGA\n"
   ]
  },
  {
   "cell_type": "code",
   "execution_count": null,
   "metadata": {},
   "outputs": [],
   "source": [
    "from pynq import Overlay\n",
    "import pynq_composable\n",
    "\n",
    "ol = Overlay(\"cv_dfx_3_pr.bit\")"
   ]
  },
  {
   "cell_type": "markdown",
   "metadata": {},
   "source": [
    "We can verify that pynq has assigned the `Composable` class by checking pynq `.hierarchy_dict`"
   ]
  },
  {
   "cell_type": "code",
   "execution_count": null,
   "metadata": {},
   "outputs": [],
   "source": [
    "ol.hierarchy_dict['composable']"
   ]
  },
  {
   "cell_type": "markdown",
   "metadata": {},
   "source": [
    "Grab a handle to the composable hierarchy this will:\n",
    "1. Perform hardware discovery of the IP cores connected to the AXI4-Stream Switch (either by checking cached file or run the discovery on-the-fly)\n",
    "1. Discovery the DFX regions available in the ComposableOverlay\n",
    "1. Configure the AXI4-Stream Switch with the default values"
   ]
  },
  {
   "cell_type": "code",
   "execution_count": null,
   "metadata": {},
   "outputs": [],
   "source": [
    "cpipe = ol.composable"
   ]
  },
  {
   "cell_type": "markdown",
   "metadata": {},
   "source": [
    "## Explore Composable Dictionary <a class=\"anchor\" id=\"c_dict\"></a>\n",
    "\n",
    "The `.c_dict` attribute displays all of the IP cores available to compose our pipeline. \n",
    "\n",
    "These IP cores can be on the static region or in the DFX regions. IP cores on the static region are `[loaded]` by default whereas the IP cores in the DFX regions are `[unloaded]` by default. The `[default]` attribute specify paths that are producer and consumers of data in a given pipeline. These defaults paths, and the path name, can be specified with a [JSON](../overlay/cv_dfx_4_pr_paths.json) file.\n",
    "\n",
    "If you expand an entry on this dictionary, you will see\n",
    "- ci: (consumer interface) the output stream of this IP is connected to this consumer interface on the AXI4-Stream Switch\n",
    "- pi: (producer interface) the input stream of this IP is connected from this producer interface on the AXI4-Stream Switch\n",
    "- dfx: whether or not the IP is within a DFX region\n",
    "- loaded: whether or not the IP is loaded\n",
    "- default: (optional) whether the IP is the producer or consumer of a given pipeline"
   ]
  },
  {
   "cell_type": "code",
   "execution_count": null,
   "metadata": {},
   "outputs": [],
   "source": [
    "cpipe.c_dict"
   ]
  },
  {
   "cell_type": "markdown",
   "metadata": {},
   "source": [
    "You can also filter by *loaded*, *unloaded* and *default* IP cores using the `.loaded` and `.unloaded` attributes of the `c_dict`"
   ]
  },
  {
   "cell_type": "code",
   "execution_count": null,
   "metadata": {},
   "outputs": [],
   "source": [
    "cpipe.c_dict.loaded"
   ]
  },
  {
   "cell_type": "code",
   "execution_count": null,
   "metadata": {},
   "outputs": [],
   "source": [
    "cpipe.c_dict.unloaded"
   ]
  },
  {
   "cell_type": "code",
   "execution_count": null,
   "metadata": {},
   "outputs": [],
   "source": [
    "cpipe.c_dict.default"
   ]
  },
  {
   "cell_type": "markdown",
   "metadata": {},
   "source": [
    "## Explore DFX Dictionary <a class=\"anchor\" id=\"dfx_dict\"></a>\n",
    "\n",
    "The `.dfx_dict` attribute displays all of the DFX regions available in the composable overlay\n",
    "\n",
    "If you expand an entry on this dictionary, you will see\n",
    "- decoupler: name of the decoupler that handles the DFX regions\n",
    "- gpio: PS GPIO pins that enable decouple and status of said decoupler\n",
    "- rm: (reconfigurable module) dictionary of partial bitstreams and IP cores contained in them"
   ]
  },
  {
   "cell_type": "code",
   "execution_count": null,
   "metadata": {},
   "outputs": [],
   "source": [
    "cpipe.dfx_dict"
   ]
  },
  {
   "cell_type": "markdown",
   "metadata": {},
   "source": [
    "## Documentation <a class=\"anchor\" id=\"docs\"></a>\n",
    "\n",
    "You can get more detailed documentation on any of the classes described above by using the built-in `help()` function. Or using the question mark (`?`)"
   ]
  },
  {
   "cell_type": "code",
   "execution_count": null,
   "metadata": {},
   "outputs": [],
   "source": [
    "from pynq_composable import Composable"
   ]
  },
  {
   "cell_type": "code",
   "execution_count": null,
   "metadata": {},
   "outputs": [],
   "source": [
    "Composable.compose?"
   ]
  },
  {
   "cell_type": "code",
   "execution_count": null,
   "metadata": {},
   "outputs": [],
   "source": [
    "help(Composable)"
   ]
  },
  {
   "cell_type": "markdown",
   "metadata": {},
   "source": [
    "## Conclusion <a class=\"anchor\" id=\"conclusion\"></a>\n",
    "\n",
    "This notebook has introduced the `Composable` class as well as `c_dict` and `dfx_dict`. We will use these dictionaries in the following notebooks to create custom pipelines\n",
    "\n",
    "| | [First Custom Pipeline ➡️](02_first_custom_pipeline.ipynb)"
   ]
  },
  {
   "cell_type": "markdown",
   "metadata": {},
   "source": [
    "Copyright &copy; 2021 Xilinx, Inc\n",
    "\n",
    "SPDX-License-Identifier: BSD-3-Clause\n",
    "\n",
    "----"
   ]
  }
 ],
 "metadata": {
  "kernelspec": {
   "display_name": "Python 3",
   "language": "python",
   "name": "python3"
  },
  "language_info": {
   "codemirror_mode": {
    "name": "ipython",
    "version": 3
   },
   "file_extension": ".py",
   "mimetype": "text/x-python",
   "name": "python",
   "nbconvert_exporter": "python",
   "pygments_lexer": "ipython3",
   "version": "3.6.5"
  },
  "widgets": {
   "application/vnd.jupyter.widget-state+json": {
    "state": {},
    "version_major": 2,
    "version_minor": 0
   }
  }
 },
 "nbformat": 4,
 "nbformat_minor": 4
}
