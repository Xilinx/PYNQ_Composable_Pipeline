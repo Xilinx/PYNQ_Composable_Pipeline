{
 "cells": [
  {
   "cell_type": "markdown",
   "metadata": {},
   "source": [
    "# Modify Composable Pipeline\n",
    "----\n",
    "\n",
    "<div class=\"alert alert-box alert-info\">\n",
    "Please use Jupyter labs http://&lt;board_ip_address&gt;/lab for this notebook.\n",
    "</div>\n",
    "\n",
    "This notebook shows your how modify the composable pipeline using the available methods\n",
    "\n",
    "## Aims\n",
    "* Explore methods to modify the composable pipeline\n",
    "\n",
    "## Table of Contents\n",
    "* [Download Composable Overlay](#download)\n",
    "* [Start HDMI Video](#start_hdmi)\n",
    "* [Let us Compose](#compose)\n",
    "* [Replace IP object](#replace)\n",
    "* [Remove IP object](#remove)\n",
    "* [Insert IP objects](#insert)\n",
    "* [Stop HDMI Video](#stop_hdmi)\n",
    "* [Conclusion](#conclusion)\n",
    "\n",
    "----\n",
    "\n",
    "## Revision History\n",
    "\n",
    "* v1.0 | 30 March 2021 | First notebook revision.\n",
    "* v1.1 | 11 August 2021 | Update notebook to composable overlay API 1.0.0\n",
    "\n",
    "----"
   ]
  },
  {
   "cell_type": "markdown",
   "metadata": {},
   "source": [
    "## Download Composable Overlay <a class=\"anchor\" id=\"download\"></a>\n",
    "\n",
    "Import the pynq video libraries as well as Composable class and the drivers for the IP.\n",
    "\n",
    "Download the Composable Overlay using `pynq.Overlay` and grab a handler to the `composable` hierarchy"
   ]
  },
  {
   "cell_type": "code",
   "execution_count": null,
   "metadata": {},
   "outputs": [],
   "source": [
    "from pynq import Overlay\n",
    "from pynq.lib.video import *\n",
    "from pynq_composable import *\n",
    "\n",
    "ol = Overlay(\"cv_dfx_4_pr.bit\")\n",
    "\n",
    "cpipe = ol.composable"
   ]
  },
  {
   "cell_type": "markdown",
   "metadata": {},
   "source": [
    "## Start HDMI Video <a class=\"anchor\" id=\"start_hdmi\"></a>\n",
    "\n",
    "Get `VideoStream` object and start video\n",
    "\n",
    "<div class=\"alert alert-heading alert-danger\">\n",
    "    <h4 class=\"alert-heading\">Warning:</h4>\n",
    "\n",
    "Failure to connect HDMI cables to a valid video source and screen may cause the notebook to hang\n",
    "</div>"
   ]
  },
  {
   "cell_type": "code",
   "execution_count": null,
   "metadata": {},
   "outputs": [],
   "source": [
    "video = VideoStream(ol)\n",
    "video.start()"
   ]
  },
  {
   "cell_type": "markdown",
   "metadata": {},
   "source": [
    "## Let us Compose <a class=\"anchor\" id=\"compose\"></a>\n",
    "\n",
    "First we need to grab handlers to the IP objects to simplify the notebook"
   ]
  },
  {
   "cell_type": "code",
   "execution_count": null,
   "metadata": {},
   "outputs": [],
   "source": [
    "filter2d = cpipe.filter2d_accel\n",
    "rgb2gray = cpipe.rgb2gray_accel\n",
    "gray2rgb = cpipe.gray2rgb_accel\n",
    "rgb2hsv = cpipe.rgb2hsv_accel\n",
    "colorthr = cpipe.colorthresholding_accel\n",
    "lut = cpipe.lut_accel"
   ]
  },
  {
   "cell_type": "markdown",
   "metadata": {},
   "source": [
    "We will start with a simple pipeline that converts from [RGB color space]((https://en.wikipedia.org/wiki/RGB_color_space)) to [Grayscale color space](https://en.wikipedia.org/wiki/Grayscale)"
   ]
  },
  {
   "cell_type": "code",
   "execution_count": null,
   "metadata": {},
   "outputs": [],
   "source": [
    "video_pipeline = [cpipe.hdmi_source_in, rgb2gray, cpipe.hdmi_source_out]\n",
    "\n",
    "cpipe.compose(video_pipeline)\n",
    "\n",
    "cpipe.graph"
   ]
  },
  {
   "cell_type": "markdown",
   "metadata": {},
   "source": [
    "## Replace IP object <a class=\"anchor\" id=\"replace\"></a>\n",
    "\n",
    "We can replace the `rgb2gray` IP object with the `rgb2hsv` easily using the `.replace` method. This method takes a tuple with the IP object to be replaced and the new IP object."
   ]
  },
  {
   "cell_type": "code",
   "execution_count": null,
   "metadata": {},
   "outputs": [],
   "source": [
    "cpipe.replace?"
   ]
  },
  {
   "cell_type": "code",
   "execution_count": null,
   "metadata": {},
   "outputs": [],
   "source": [
    "cpipe.replace((rgb2gray, rgb2hsv))\n",
    "\n",
    "cpipe.graph"
   ]
  },
  {
   "cell_type": "markdown",
   "metadata": {},
   "source": [
    "## Remove IP object <a class=\"anchor\" id=\"remove\"></a>\n",
    "\n",
    "To visualize the RGB color space we can simply remove the `rgb2hsv` IP object from the composable pipeline using the `.remove` method. This method gets a list of IP object to be removed as argument"
   ]
  },
  {
   "cell_type": "code",
   "execution_count": null,
   "metadata": {},
   "outputs": [],
   "source": [
    "cpipe.remove?"
   ]
  },
  {
   "cell_type": "code",
   "execution_count": null,
   "metadata": {},
   "outputs": [],
   "source": [
    "cpipe.remove([rgb2hsv])\n",
    "\n",
    "cpipe.graph"
   ]
  },
  {
   "cell_type": "markdown",
   "metadata": {},
   "source": [
    "## Insert IP objects <a class=\"anchor\" id=\"insert\"></a>\n",
    "\n",
    "The `.insert` method allows you to insert an IP object or list of IP object into a given index within the current pipeline"
   ]
  },
  {
   "cell_type": "code",
   "execution_count": null,
   "metadata": {},
   "outputs": [],
   "source": [
    "cpipe.insert?"
   ]
  },
  {
   "cell_type": "code",
   "execution_count": null,
   "metadata": {},
   "outputs": [],
   "source": [
    "cpipe.insert(([filter2d, lut], 1))\n",
    "\n",
    "cpipe.graph"
   ]
  },
  {
   "cell_type": "markdown",
   "metadata": {},
   "source": [
    "Change default kernel type on the filter2d"
   ]
  },
  {
   "cell_type": "code",
   "execution_count": null,
   "metadata": {},
   "outputs": [],
   "source": [
    "filter2d.kernel_type = XvF2d.sharpen"
   ]
  },
  {
   "cell_type": "markdown",
   "metadata": {},
   "source": [
    "Insert the gray2rgb IP after the LUT IP"
   ]
  },
  {
   "cell_type": "code",
   "execution_count": null,
   "metadata": {},
   "outputs": [],
   "source": [
    "cpipe.insert(([gray2rgb], 3))\n",
    "\n",
    "cpipe.graph"
   ]
  },
  {
   "cell_type": "markdown",
   "metadata": {},
   "source": [
    "## Stop HDMI Video <a class=\"anchor\" id=\"stop_hdmi\"></a>\n",
    "\n",
    "Finally stop the HDMI video pipeline\n",
    "\n",
    "<div class=\"alert alert-heading alert-danger\">\n",
    "    <h4 class=\"alert-heading\">Warning:</h4>\n",
    "\n",
    "Failure to stop the HDMI Video may hang the board \n",
    "when trying to download another bitstream onto the FPGA\n",
    "</div>"
   ]
  },
  {
   "cell_type": "code",
   "execution_count": null,
   "metadata": {},
   "outputs": [],
   "source": [
    "video.stop()\n",
    "ol.free()"
   ]
  },
  {
   "cell_type": "markdown",
   "metadata": {},
   "source": [
    "----\n",
    "\n",
    "## Conclusion <a class=\"anchor\" id=\"conclusion\"></a>\n",
    "\n",
    "This notebook has shown how to modify a composable pipeline with the `.replace`, `.remove` and `.insert` methods\n",
    "\n",
    "[⬅️ Introspect Composable Pipeline](03_introspect_pipeline.ipynb) | | [Using Dynamic IP on the Composable Pipeline ➡️](05_dynamic_ip.ipynb)"
   ]
  },
  {
   "cell_type": "markdown",
   "metadata": {},
   "source": [
    "Copyright &copy; 2021 Xilinx, Inc\n",
    "\n",
    "SPDX-License-Identifier: BSD-3-Clause\n",
    "\n",
    "----"
   ]
  }
 ],
 "metadata": {
  "kernelspec": {
   "display_name": "Python 3",
   "language": "python",
   "name": "python3"
  },
  "language_info": {
   "codemirror_mode": {
    "name": "ipython",
    "version": 3
   },
   "file_extension": ".py",
   "mimetype": "text/x-python",
   "name": "python",
   "nbconvert_exporter": "python",
   "pygments_lexer": "ipython3",
   "version": "3.6.5"
  },
  "widgets": {
   "application/vnd.jupyter.widget-state+json": {
    "state": {},
    "version_major": 2,
    "version_minor": 0
   }
  }
 },
 "nbformat": 4,
 "nbformat_minor": 4
}
