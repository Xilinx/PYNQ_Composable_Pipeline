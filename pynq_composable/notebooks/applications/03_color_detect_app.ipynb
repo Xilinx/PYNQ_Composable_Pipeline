{
 "cells": [
  {
   "cell_type": "markdown",
   "metadata": {},
   "source": [
    "# Color Detect Application\n",
    "----\n",
    "\n",
    "<div class=\"alert alert-box alert-info\">\n",
    "Please use Jupyter labs http://&lt;board_ip_address&gt;/lab for this notebook.\n",
    "</div>\n",
    "\n",
    "This notebook shows how to download and play with the Color Detect Application\n",
    "\n",
    "## Aims\n",
    "* Instantiate the application\n",
    "* Start the application\n",
    "* Play with the runtime parameters\n",
    "* Stop the application\n",
    "\n",
    "## Table of Contents\n",
    "* [Download Composable Overlay](#download)\n",
    "* [Start Application](#start)\n",
    "* [Play with the Application](#play)\n",
    "* [Stop Application](#stop)\n",
    "* [Conclusion](#conclusion)\n",
    "\n",
    "----\n",
    "\n",
    "## Revision History\n",
    "\n",
    "* v1.0 | 30 March 2021 | First notebook revision.\n",
    "\n",
    "----"
   ]
  },
  {
   "cell_type": "markdown",
   "metadata": {},
   "source": [
    "## Download Composable Overlay <a class=\"anchor\" id=\"download\"></a>\n",
    "\n",
    "Download the Composable Overlay using the `ColorDetect` class which wraps all the functionality needed to run this application"
   ]
  },
  {
   "cell_type": "code",
   "execution_count": null,
   "metadata": {},
   "outputs": [],
   "source": [
    "from pynq_composable import ColorDetect\n",
    "\n",
    "app = ColorDetect(\"cv_dfx_3_pr.bit\")"
   ]
  },
  {
   "cell_type": "markdown",
   "metadata": {},
   "source": [
    "## Start Application <a class=\"anchor\" id=\"start\"></a>\n",
    "\n",
    "Start the application by calling the `.start()` method, this will:\n",
    "\n",
    "1. Initialize the pipeline\n",
    "1. Setup initial parameters\n",
    "1. Display the implemented pipelined\n",
    "1. Configure HDMI in and out\n",
    "\n",
    "The output image should be visible on the external screen at this point\n",
    "\n",
    "<div class=\"alert alert-heading alert-danger\">\n",
    "    <h4 class=\"alert-heading\">Warning:</h4>\n",
    "\n",
    "Failure to connect HDMI cables to a valid video source and screen may cause the notebook to hang\n",
    "</div>"
   ]
  },
  {
   "cell_type": "code",
   "execution_count": null,
   "metadata": {},
   "outputs": [],
   "source": [
    "app.start()"
   ]
  },
  {
   "cell_type": "markdown",
   "metadata": {},
   "source": [
    "## Play with the Application <a class=\"anchor\" id=\"play\"></a>\n",
    "\n",
    "The `.play()` method exposes several runtime parameters\n",
    "\n",
    "### Color Space\n",
    "\n",
    "This drop-down menu allows you to select between three color spaces\n",
    "\n",
    "* [HSV](https://en.wikipedia.org/wiki/HSL_and_HSV)\n",
    "* [RGB](https://en.wikipedia.org/wiki/RGB_color_space)\n",
    "\n",
    "    $h_{0-2}$, $s_{0-2}$, $v_{0-2}$ represent the thresholding values for the three channels\n",
    "\n",
    "### Noise reduction\n",
    "\n",
    "This drop-down menu allows you to the disable noise reduction in the application\n"
   ]
  },
  {
   "cell_type": "code",
   "execution_count": null,
   "metadata": {},
   "outputs": [],
   "source": [
    "app.play()"
   ]
  },
  {
   "cell_type": "markdown",
   "metadata": {},
   "source": [
    "## Stop Application <a class=\"anchor\" id=\"stop\"></a>\n",
    "\n",
    "Finally stop the application to release the resources\n",
    "\n",
    "<div class=\"alert alert-heading alert-danger\">\n",
    "    <h4 class=\"alert-heading\">Warning:</h4>\n",
    "\n",
    "Failure to stop the HDMI Video may hang the board \n",
    "when trying to download another bitstream onto the FPGA\n",
    "</div>"
   ]
  },
  {
   "cell_type": "code",
   "execution_count": null,
   "metadata": {},
   "outputs": [],
   "source": [
    "app.stop()"
   ]
  },
  {
   "cell_type": "markdown",
   "metadata": {},
   "source": [
    "----\n",
    "\n",
    "## Conclusion <a class=\"anchor\" id=\"conclusion\"></a>\n",
    "\n",
    "This notebook has presented the Color Detect Application that leverages the Composable Overlay. \n",
    "\n",
    "The runtime parameters of such application can be modified using drop-down and sliders from `ipywidgets`\n",
    "\n",
    "[⬅️ Corner Detect Application](02_corner_detect_app.ipynb) | | [Filter2D Application ➡️](04_filter2d_app.ipynb)"
   ]
  },
  {
   "cell_type": "markdown",
   "metadata": {},
   "source": [
    "Copyright &copy; 2021 Xilinx, Inc\n",
    "\n",
    "SPDX-License-Identifier: BSD-3-Clause\n",
    "\n",
    "----"
   ]
  }
 ],
 "metadata": {
  "kernelspec": {
   "display_name": "Python 3",
   "language": "python",
   "name": "python3"
  },
  "language_info": {
   "codemirror_mode": {
    "name": "ipython",
    "version": 3
   },
   "file_extension": ".py",
   "mimetype": "text/x-python",
   "name": "python",
   "nbconvert_exporter": "python",
   "pygments_lexer": "ipython3",
   "version": "3.6.5"
  },
  "widgets": {
   "application/vnd.jupyter.widget-state+json": {
    "state": {},
    "version_major": 2,
    "version_minor": 0
   }
  }
 },
 "nbformat": 4,
 "nbformat_minor": 4
}
