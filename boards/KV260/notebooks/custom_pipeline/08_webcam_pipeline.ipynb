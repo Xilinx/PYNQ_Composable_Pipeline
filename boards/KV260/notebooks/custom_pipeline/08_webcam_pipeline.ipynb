{
 "cells": [
  {
   "cell_type": "markdown",
   "metadata": {},
   "source": [
    "# Using a Webcam as input source of the Composable Pipeline\n",
    "----\n",
    "\n",
    "<div class=\"alert alert-box alert-info\">\n",
    "Please use Jupyter labs http://&lt;board_ip_address&gt;/lab for this notebook.\n",
    "</div>\n",
    "\n",
    "This notebook shows your how to use a Webcam as a input source for your composable pipeline\n",
    "\n",
    "## Aims\n",
    "* Use Webcam as an input video source\n",
    "* Compose a video pipeline over the webcam stream\n",
    "\n",
    "## Table of Contents\n",
    "* [Download Composable Overlay](#download)\n",
    "* [Configure Webcam](#setup_cam)\n",
    "* [Compose a Simple Pipeline](#simple-pipeline)\n",
    "* [Compose Complex Pipeline](#complex-pipeline)\n",
    "* [Modify Parameters](#parameters)\n",
    "* [Stop Webcam Video](#stop_web)\n",
    "* [Conclusion](#conclusion)\n",
    "\n",
    "----\n",
    "\n",
    "## Revision History\n",
    "\n",
    "* v1.0 | 21 June 2021 | First notebook revision.\n",
    "* v1.1 | 11 August 2021 | Update notebook to composable overlay API 1.0.0\n",
    "* v1.2 | 27 September 2021 | Update notebook to use `VideoStream`\n",
    "\n",
    "----"
   ]
  },
  {
   "cell_type": "markdown",
   "metadata": {},
   "source": [
    "## Download Composable Overlay <a class=\"anchor\" id=\"download\"></a>\n",
    "\n",
    "Import the pynq video libraries as well as Composable class and the drivers for the IP.\n",
    "\n",
    "Download the Composable Overlay using `pynq.Overlay` and grab a handler to the `composable` hierarchy"
   ]
  },
  {
   "cell_type": "code",
   "execution_count": null,
   "metadata": {},
   "outputs": [],
   "source": [
    "from pynq import Overlay\n",
    "from pynq.lib.video import *\n",
    "from pynq_composable import *\n",
    "from ipywidgets import widgets, interact, FloatSlider, IntSlider\n",
    "\n",
    "ol = Overlay(\"cv_dfx_4_pr.bit\")\n",
    "\n",
    "cpipe = ol.composable"
   ]
  },
  {
   "cell_type": "markdown",
   "metadata": {},
   "source": [
    "## Configure Webcam  <a class=\"anchor\" id=\"setup_cam\"></a>\n",
    "\n",
    "Configure the Webcam and display port using the `VideoStream` class"
   ]
  },
  {
   "cell_type": "code",
   "execution_count": null,
   "metadata": {},
   "outputs": [],
   "source": [
    "video = VideoStream(ol, source=VSource.OpenCV, sink=VSink.DP)\n",
    "\n",
    "video.start()"
   ]
  },
  {
   "cell_type": "markdown",
   "metadata": {},
   "source": [
    "## Compose Simple Pipeline <a class=\"anchor\" id=\"simple-pipeline\"></a>"
   ]
  },
  {
   "cell_type": "markdown",
   "metadata": {},
   "source": [
    "Grab handlers to LUT and compose"
   ]
  },
  {
   "cell_type": "code",
   "execution_count": null,
   "metadata": {},
   "outputs": [],
   "source": [
    "lut = cpipe.lut_accel\n",
    "\n",
    "lut.kernel_type = XvLut.group_bin\n",
    "\n",
    "cpipe.compose([cpipe.ps_video_in, lut, cpipe.ps_video_out])\n",
    "\n",
    "cpipe.graph"
   ]
  },
  {
   "cell_type": "markdown",
   "metadata": {},
   "source": [
    "## Compose Complex Pipeline <a class=\"anchor\" id=\"complex-pipeline\"></a>",
    "\n",
    "Now compose the corner detect app\n",
    "\n",
    "In this part of the notebook, we will bring new functionality into the DFX regions to compose a corner detect application.\n",
    "\n",
    "Load dynamic IP, grab handlers and set up default values"
   ]
  },
  {
   "cell_type": "code",
   "execution_count": null,
   "metadata": {},
   "outputs": [],
   "source": [
    "cpipe.load(['pr_1/cornerHarris_accel', 'pr_2/add_accel'])"
   ]
  },
  {
   "cell_type": "code",
   "execution_count": null,
   "metadata": {},
   "outputs": [],
   "source": [
    "harris = cpipe.pr_1.cornerHarris_accel\n",
    "duplicate = cpipe.duplicate_accel\n",
    "add = cpipe.pr_2.add_accel\n",
    "r2g = cpipe.rgb2gray_accel\n",
    "g2r = cpipe.gray2rgb_accel"
   ]
  },
  {
   "cell_type": "markdown",
   "metadata": {},
   "source": [
    "The Corner Detect is realized by adding (masking) the output of the Harris algorithm to the original image. In the Composable Overlay this is achieved by branching the pipeline, which is expressed as a list of a list."
   ]
  },
  {
   "cell_type": "code",
   "execution_count": null,
   "metadata": {},
   "outputs": [],
   "source": [
    "cpipe.compose([cpipe.ps_video_in, duplicate, [[r2g, harris, g2r], [1]], add, cpipe.ps_video_out])\n",
    "\n",
    "cpipe.graph"
   ]
  },
  {
   "cell_type": "markdown",
   "metadata": {},
   "source": [
    "## Modify Parameters <a class=\"anchor\" id=\"parameters\"></a>\n",
    "\n",
    "The corner Harris IP provides two parameters that help us tweak the sensitivity of the algorithm. These parameters are the threshold and k (Harris parameter), after running the next cell you will be able to update them."
   ]
  },
  {
   "cell_type": "code",
   "execution_count": null,
   "metadata": {},
   "outputs": [],
   "source": [
    "thr = IntSlider(min=0, max=1024, step=1, value=422)\n",
    "k = FloatSlider(min=0, max=0.2, step=0.002, value=0.04, description='\\u03BA')\n",
    "def play(thr, k):\n",
    "    harris.threshold = thr\n",
    "    harris.k = k\n",
    "\n",
    "interact(play, thr=thr, k=k);"
   ]
  },
  {
   "cell_type": "markdown",
   "metadata": {},
   "source": [
    "## Stop Webcam Video <a class=\"anchor\" id=\"stop_web\"></a>\n",
    "\n",
    "Finally stop the video stream\n",
    "\n",
    "<div class=\"alert alert-heading alert-danger\">\n",
    "    <h4 class=\"alert-heading\">Warning:</h4>\n",
    "\n",
    "Failure to stop video stream may hang the board \n",
    "when trying to download another bitstream onto the FPGA\n",
    "</div>"
   ]
  },
  {
   "cell_type": "code",
   "execution_count": null,
   "metadata": {},
   "outputs": [],
   "source": [
    "video.stop()\n",
    "ol.free()"
   ]
  },
  {
   "cell_type": "markdown",
   "metadata": {},
   "source": [
    "----\n",
    "\n",
    "## Conclusion <a class=\"anchor\" id=\"conclusion\"></a>\n",
    "\n",
    "This notebook has shown how to compose a video pipeline using a Webcam as a video source\n",
    "\n",
    "[⬅️ Advanced Features](07_advanced_features.ipynb) | | "
   ]
  },
  {
   "cell_type": "markdown",
   "metadata": {},
   "source": [
    "Copyright &copy; 2021 Xilinx, Inc\n",
    "\n",
    "SPDX-License-Identifier: BSD-3-Clause\n",
    "\n",
    "----"
   ]
  }
 ],
 "metadata": {
  "kernelspec": {
   "display_name": "Python 3",
   "language": "python",
   "name": "python3"
  },
  "language_info": {
   "codemirror_mode": {
    "name": "ipython",
    "version": 3
   },
   "file_extension": ".py",
   "mimetype": "text/x-python",
   "name": "python",
   "nbconvert_exporter": "python",
   "pygments_lexer": "ipython3",
   "version": "3.6.5"
  },
  "widgets": {
   "application/vnd.jupyter.widget-state+json": {
    "state": {},
    "version_major": 2,
    "version_minor": 0
   }
  }
 },
 "nbformat": 4,
 "nbformat_minor": 4
}
