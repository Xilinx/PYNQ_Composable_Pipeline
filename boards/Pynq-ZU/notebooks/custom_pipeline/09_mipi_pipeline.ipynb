{
 "cells": [
  {
   "cell_type": "markdown",
   "metadata": {},
   "source": [
    "# Custom Pipeline using MIPI as input source\n",
    "---\n",
    "\n",
    "<div class=\"alert alert-box alert-info\">\n",
    "Please use Jupyter labs http://&lt;board_ip_address&gt;/lab for this notebook.\n",
    "</div>\n",
    "\n",
    "This notebook shows your how to create a custom pipeline that uses the [Digilent Pcam 5C Camera](https://reference.digilentinc.com/reference/add-ons/pcam-5c/start) as input video source\n",
    "\n",
    "## Aims\n",
    "* Use Pcam 5C as input video source\n",
    "* Compose branched pipeline on the input video\n",
    "* Enhance the output by using a simple threshold\n",
    "\n",
    "## Table of Contents\n",
    "* [Download Composable Overlay](#download)\n",
    "* [Start Pcam 5C and Display Port video pipeline](#start_video)\n",
    "* [Branched Pipeline](#branched)\n",
    "* [Enhance the Output](#enhance)\n",
    "* [Stop Video Pipeline](#stop_dp)\n",
    "* [Conclusion](#conclusion)\n",
    "\n",
    "----\n",
    "\n",
    "## Revision History\n",
    "\n",
    "* v1.0 | 15 June 2021 | First notebook revision.\n",
    "* v1.1 | 11 August 2021 | Update notebook to composable overlay API 1.0.0\n",
    "* v1.2 | 12 November 2021 | Update notebook to use `VideoStream`\n",
    "\n",
    "----"
   ]
  },
  {
   "cell_type": "markdown",
   "metadata": {},
   "source": [
    "## Download Composable Overlay <a class=\"anchor\" id=\"download\"></a>\n",
    "\n",
    "Import the pynq video libraries as well as Composable class and the drivers for the IP.\n",
    "\n",
    "Download the Composable Overlay using `pynq.Overlay` and grab a handler to the `composable` hierarchy"
   ]
  },
  {
   "cell_type": "code",
   "execution_count": null,
   "metadata": {},
   "outputs": [],
   "source": [
    "from pynq import Overlay\n",
    "from pynq.lib.video import *\n",
    "from pynq_composable import *\n",
    "import numpy as np\n",
    "\n",
    "ol = Overlay(\"cv_dfx_4_pr.bit\")\n",
    "\n",
    "cpipe = ol.composable"
   ]
  },
  {
   "cell_type": "markdown",
   "metadata": {},
   "source": [
    "## Start Pcam 5C and Display Port video <a class=\"anchor\" id=\"start_video\"></a>\n",
    "\n",
    "Get `VideoStream` object and start video\n",
    "\n",
    "<div class=\"alert alert-heading alert-danger\">\n",
    "    <h4 class=\"alert-heading\">Warning:</h4>\n",
    "\n",
    "Failure to connect Display Port cables to a valid screen and to connect Pcam 5C may cause the notebook to hang\n",
    "</div>"
   ]
  },
  {
   "cell_type": "code",
   "execution_count": null,
   "metadata": {},
   "outputs": [],
   "source": [
    "video = VideoStream(ol, source=VSource.MIPI)\n",
    "video.start()"
   ]
  },
  {
   "cell_type": "markdown",
   "metadata": {},
   "source": [
    "## Branched Pipeline <a class=\"anchor\" id=\"branched\"></a>\n",
    "\n",
    "In this part of the notebook, we will bring new functionality into the four DFX regions to compose the [Difference of Gaussians](https://en.wikipedia.org/wiki/Difference_of_Gaussians) application that was also introduced in the previous session. \n",
    "\n",
    "Load dynamic IP"
   ]
  },
  {
   "cell_type": "code",
   "execution_count": null,
   "metadata": {},
   "outputs": [],
   "source": [
    "cpipe.load(['pr_fork/duplicate_accel', 'pr_join/subtract_accel', 'pr_0/filter2d_accel'])"
   ]
  },
  {
   "cell_type": "markdown",
   "metadata": {},
   "source": [
    "Grab handlers and set up default values"
   ]
  },
  {
   "cell_type": "code",
   "execution_count": null,
   "metadata": {},
   "outputs": [],
   "source": [
    "filter2d = cpipe.filter2d_accel\n",
    "duplicate = cpipe.pr_fork.duplicate_accel\n",
    "subtract = cpipe.pr_join.subtract_accel\n",
    "filter2d_d = cpipe.pr_0.filter2d_accel\n",
    "\n",
    "filter2d.sigma = 0.3\n",
    "filter2d.kernel_type = XvF2d.gaussian_blur\n",
    "\n",
    "filter2d_d.sigma = 12\n",
    "filter2d_d.kernel_type = XvF2d.gaussian_blur"
   ]
  },
  {
   "cell_type": "markdown",
   "metadata": {},
   "source": [
    "Grab handlers to the MIPI camera"
   ]
  },
  {
   "cell_type": "code",
   "execution_count": null,
   "metadata": {},
   "outputs": [],
   "source": [
    "mipi_in = cpipe.mipi_in\n",
    "mipi_out = cpipe.mipi_out"
   ]
  },
  {
   "cell_type": "markdown",
   "metadata": {},
   "source": [
    "The Difference of Gaussians is realized by subtracting one Gaussian blurred version of an original image from another less blurred version of the original. In the Composable Overlay this is achieved by branching the pipeline, which is expressed as a list of a list."
   ]
  },
  {
   "cell_type": "code",
   "execution_count": null,
   "metadata": {},
   "outputs": [],
   "source": [
    "video_pipeline = [mipi_in, filter2d, duplicate, [[filter2d_d], [1]], subtract, mipi_out]\n",
    "\n",
    "cpipe.compose(video_pipeline)\n",
    "\n",
    "cpipe.graph"
   ]
  },
  {
   "cell_type": "markdown",
   "metadata": {},
   "source": [
    "## Enhance the Output <a class=\"anchor\" id=\"enhance\"></a>\n",
    "\n",
    "Depending on light condition and ambient the result of the Difference of Gaussians can look weak. We are going to use the LUT IP to set a threshold to improve how the output results.\n",
    "\n",
    "Grab a handler to the LUT IP and configure the numpy array with the thresholding values"
   ]
  },
  {
   "cell_type": "code",
   "execution_count": null,
   "metadata": {},
   "outputs": [],
   "source": [
    "lut = cpipe.lut_accel\n",
    "rgb2gray = cpipe.rgb2gray_accel"
   ]
  },
  {
   "cell_type": "markdown",
   "metadata": {},
   "source": [
    "Set up a simple threshold. Any channel in the input pixels with intensity above 11 will be mapped to an intensity of 255 in the output."
   ]
  },
  {
   "cell_type": "code",
   "execution_count": null,
   "metadata": {},
   "outputs": [],
   "source": [
    "thr = np.array([np.ones((3,3), dtype=np.uint8) * 11 , np.ones((3,3), dtype=np.uint8) * 255],dtype=np.uint8)\n",
    "lut.threshold = thr"
   ]
  },
  {
   "cell_type": "code",
   "execution_count": null,
   "metadata": {},
   "outputs": [],
   "source": [
    "cpipe.insert(([rgb2gray,lut], 5))\n",
    "\n",
    "cpipe.graph"
   ]
  },
  {
   "cell_type": "markdown",
   "metadata": {},
   "source": [
    "You can also observe the output in color by removing the `rgb2gray` IP"
   ]
  },
  {
   "cell_type": "code",
   "execution_count": null,
   "metadata": {},
   "outputs": [],
   "source": [
    "cpipe.remove([rgb2gray])\n",
    "cpipe.graph"
   ]
  },
  {
   "cell_type": "markdown",
   "metadata": {},
   "source": [
    "## Stop Video Pipeline <a class=\"anchor\" id=\"stop_dp\"></a>\n",
    "\n",
    "Finally stop the Display Port video pipeline\n",
    "\n",
    "<div class=\"alert alert-heading alert-danger\">\n",
    "    <h4 class=\"alert-heading\">Warning:</h4>\n",
    "\n",
    "Failure to stop the Display Port Video may hang the board \n",
    "when trying to download another bitstream onto the FPGA\n",
    "</div>"
   ]
  },
  {
   "cell_type": "code",
   "execution_count": null,
   "metadata": {},
   "outputs": [],
   "source": [
    "video.stop()\n",
    "ol.free()"
   ]
  },
  {
   "cell_type": "markdown",
   "metadata": {},
   "source": [
    "----\n",
    "\n",
    "## Conclusion <a class=\"anchor\" id=\"conclusion\"></a>\n",
    "\n",
    "This notebook has shown how to create a custom pipeline using the Pcam 5C as input video source and how the output can be enhanced by a simple thresholding\n",
    "\n",
    "[⬅️ Webcam Pipeline](08_webcam_pipeline.ipynb) | |"
   ]
  },
  {
   "cell_type": "markdown",
   "metadata": {},
   "source": [
    "Copyright &copy; 2021 Xilinx, Inc\n",
    "\n",
    "SPDX-License-Identifier: BSD-3-Clause\n",
    "\n",
    "----"
   ]
  }
 ],
 "metadata": {
  "kernelspec": {
   "display_name": "Python 3",
   "language": "python",
   "name": "python3"
  },
  "language_info": {
   "codemirror_mode": {
    "name": "ipython",
    "version": 3
   },
   "file_extension": ".py",
   "mimetype": "text/x-python",
   "name": "python",
   "nbconvert_exporter": "python",
   "pygments_lexer": "ipython3",
   "version": "3.6.5"
  }
 },
 "nbformat": 4,
 "nbformat_minor": 4
}
